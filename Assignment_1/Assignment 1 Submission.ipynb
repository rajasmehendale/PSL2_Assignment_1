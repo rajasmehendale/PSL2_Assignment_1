{
 "cells": [
  {
   "cell_type": "markdown",
   "metadata": {},
   "source": [
    "# RTD Analysis of Reactor and Prediction of Conversion of a first order reaction"
   ]
  },
  {
   "cell_type": "markdown",
   "metadata": {},
   "source": [
    "#### Rajas Mehendale\n",
    "#### 18CHE160\n",
    "#### TY B. Chem. Engg\n",
    "#### ICT, Mumbai\n",
    "<br>"
   ]
  },
  {
   "cell_type": "markdown",
   "metadata": {},
   "source": [
    "\n",
    "\n",
    "This analyses a tubular reactor and uses different RTD Models to predict the conversion\n"
   ]
  },
  {
   "cell_type": "markdown",
   "metadata": {},
   "source": [
    "# RTD Analysis"
   ]
  },
  {
   "cell_type": "markdown",
   "metadata": {},
   "source": [
    "###### Importing Modules"
   ]
  },
  {
   "cell_type": "code",
   "execution_count": 1,
   "metadata": {},
   "outputs": [],
   "source": [
    "%matplotlib inline\n",
    "\n",
    "import numpy as np\n",
    "import matplotlib.pyplot as plt"
   ]
  },
  {
   "cell_type": "markdown",
   "metadata": {},
   "source": [
    "The RTD Data is taken from<br>Elements of Chemical Reaction Engineering, $5^{th}$ Edition, \n",
    "<br>Chapter 16, Example 16-1"
   ]
  },
  {
   "cell_type": "markdown",
   "metadata": {},
   "source": [
    "Importing the Data from an excel file using pandas, \n",
    "and performing the RTD analysis in a separate file named \"curve_fitting_code.py\".\n",
    "\n",
    "The figure is saved in a pdf file named \"rtd data plot\""
   ]
  },
  {
   "cell_type": "markdown",
   "metadata": {},
   "source": [
    "###### Importing Custom Modules"
   ]
  },
  {
   "cell_type": "markdown",
   "metadata": {},
   "source": [
    "The RTD Data, as well as the concentration curve is plotted.\n",
    "\n",
    "The curves fitted are polynomial curves"
   ]
  },
  {
   "cell_type": "code",
   "execution_count": 2,
   "metadata": {},
   "outputs": [
    {
     "data": {
      "text/html": [
       "<div>\n",
       "<style scoped>\n",
       "    .dataframe tbody tr th:only-of-type {\n",
       "        vertical-align: middle;\n",
       "    }\n",
       "\n",
       "    .dataframe tbody tr th {\n",
       "        vertical-align: top;\n",
       "    }\n",
       "\n",
       "    .dataframe thead th {\n",
       "        text-align: right;\n",
       "    }\n",
       "</style>\n",
       "<table border=\"1\" class=\"dataframe\">\n",
       "  <thead>\n",
       "    <tr style=\"text-align: right;\">\n",
       "      <th></th>\n",
       "      <th>t (min)</th>\n",
       "      <th>C (mg/L)</th>\n",
       "    </tr>\n",
       "  </thead>\n",
       "  <tbody>\n",
       "    <tr>\n",
       "      <th>0</th>\n",
       "      <td>0.0</td>\n",
       "      <td>0.0</td>\n",
       "    </tr>\n",
       "    <tr>\n",
       "      <th>1</th>\n",
       "      <td>0.5</td>\n",
       "      <td>0.6</td>\n",
       "    </tr>\n",
       "    <tr>\n",
       "      <th>2</th>\n",
       "      <td>1.0</td>\n",
       "      <td>1.4</td>\n",
       "    </tr>\n",
       "    <tr>\n",
       "      <th>3</th>\n",
       "      <td>2.0</td>\n",
       "      <td>5.0</td>\n",
       "    </tr>\n",
       "    <tr>\n",
       "      <th>4</th>\n",
       "      <td>3.0</td>\n",
       "      <td>8.0</td>\n",
       "    </tr>\n",
       "    <tr>\n",
       "      <th>5</th>\n",
       "      <td>4.0</td>\n",
       "      <td>10.0</td>\n",
       "    </tr>\n",
       "    <tr>\n",
       "      <th>6</th>\n",
       "      <td>5.0</td>\n",
       "      <td>8.0</td>\n",
       "    </tr>\n",
       "    <tr>\n",
       "      <th>7</th>\n",
       "      <td>6.0</td>\n",
       "      <td>6.0</td>\n",
       "    </tr>\n",
       "    <tr>\n",
       "      <th>8</th>\n",
       "      <td>7.0</td>\n",
       "      <td>4.0</td>\n",
       "    </tr>\n",
       "    <tr>\n",
       "      <th>9</th>\n",
       "      <td>8.0</td>\n",
       "      <td>3.0</td>\n",
       "    </tr>\n",
       "    <tr>\n",
       "      <th>10</th>\n",
       "      <td>9.0</td>\n",
       "      <td>2.2</td>\n",
       "    </tr>\n",
       "    <tr>\n",
       "      <th>11</th>\n",
       "      <td>10.0</td>\n",
       "      <td>1.5</td>\n",
       "    </tr>\n",
       "    <tr>\n",
       "      <th>12</th>\n",
       "      <td>12.0</td>\n",
       "      <td>0.6</td>\n",
       "    </tr>\n",
       "    <tr>\n",
       "      <th>13</th>\n",
       "      <td>14.0</td>\n",
       "      <td>0.0</td>\n",
       "    </tr>\n",
       "  </tbody>\n",
       "</table>\n",
       "</div>"
      ],
      "text/plain": [
       "    t (min)  C (mg/L)\n",
       "0       0.0       0.0\n",
       "1       0.5       0.6\n",
       "2       1.0       1.4\n",
       "3       2.0       5.0\n",
       "4       3.0       8.0\n",
       "5       4.0      10.0\n",
       "6       5.0       8.0\n",
       "7       6.0       6.0\n",
       "8       7.0       4.0\n",
       "9       8.0       3.0\n",
       "10      9.0       2.2\n",
       "11     10.0       1.5\n",
       "12     12.0       0.6\n",
       "13     14.0       0.0"
      ]
     },
     "metadata": {},
     "output_type": "display_data"
    },
    {
     "data": {
      "image/png": "[encoded data removed]",
      "text/plain": [
       "<Figure size 432x288 with 1 Axes>"
      ]
     },
     "metadata": {
      "needs_background": "light"
     },
     "output_type": "display_data"
    }
   ],
   "source": [
    "from curve_fitting_code import std_dev, t_mean\n",
    "plt.savefig('rtd data plot.pdf')"
   ]
  },
  {
   "cell_type": "markdown",
   "metadata": {},
   "source": [
    "Importing the various conversion models from the file conversion_models.py\n",
    "\n",
    "All the models are saved in a single class"
   ]
  },
  {
   "cell_type": "markdown",
   "metadata": {},
   "source": [
    "### Importing the custom class created"
   ]
  },
  {
   "cell_type": "code",
   "execution_count": 3,
   "metadata": {},
   "outputs": [],
   "source": [
    "import conversion_models as CM\n",
    "conv_mod = CM.conversion_models()"
   ]
  },
  {
   "cell_type": "markdown",
   "metadata": {},
   "source": [
    "#### Displaying the RTD Analysis"
   ]
  },
  {
   "cell_type": "markdown",
   "metadata": {},
   "source": [
    "The mean residence time $(\\tau _{mean})$  and the variance $(\\sigma ^{2})$ is fed to the models for further calculation."
   ]
  },
  {
   "cell_type": "code",
   "execution_count": 4,
   "metadata": {},
   "outputs": [],
   "source": [
    "conv_mod.sigma_sq = std_dev\n",
    "conv_mod.t_mean = t_mean"
   ]
  },
  {
   "cell_type": "code",
   "execution_count": 5,
   "metadata": {},
   "outputs": [
    {
     "name": "stdout",
     "output_type": "stream",
     "text": [
      "Mean Residence time is  5.107 minutes\n",
      "Standard Deviation is  2.514 minutes\n"
     ]
    }
   ],
   "source": [
    "print(\"Mean Residence time is % .3f \" %(t_mean) + \"minutes\")\n",
    "print(\"Standard Deviation is % .3f \" %(np.sqrt(std_dev)) + \"minutes\")"
   ]
  },
  {
   "cell_type": "markdown",
   "metadata": {},
   "source": [
    "\n",
    "# Conversion Analysis\n"
   ]
  },
  {
   "cell_type": "markdown",
   "metadata": {},
   "source": [
    "The reaction is first order in A\n",
    "\n",
    "$A\\rightarrow B$\n",
    "\n",
    "$r_{A} = -k_{1}*C_{A}$"
   ]
  },
  {
   "cell_type": "markdown",
   "metadata": {},
   "source": [
    "The value of k will be changed, and the conversion value of A will be checked using different models"
   ]
  },
  {
   "cell_type": "code",
   "execution_count": 6,
   "metadata": {},
   "outputs": [],
   "source": [
    "k_min = 0.001\n",
    "k_max = 1.2\n",
    "steps = 2000\n",
    "k_range = np.linspace(k_min,k_max,steps)"
   ]
  },
  {
   "cell_type": "code",
   "execution_count": 7,
   "metadata": {},
   "outputs": [],
   "source": [
    "x_cvdm            = np.zeros((len(k_range),1))\n",
    "x_ideal_pfr       = np.zeros((len(k_range),1))\n",
    "x_tanks_in_series = np.zeros((len(k_range),1))\n",
    "x_single_cstr     = np.zeros((len(k_range),1))"
   ]
  },
  {
   "cell_type": "markdown",
   "metadata": {},
   "source": [
    "\n",
    "Damkohler Number is $Da_{1}$ for a first order reaction\n",
    "\n",
    "$Da_{1} = \\tau * k_{1}$\n",
    "\n",
    "## Closed Vessel Dispersion Model\n",
    "\n",
    "$(\\frac{\\sigma ^{2}}{\\tau ^{2}}) = \\frac{2}{{Pe}_{r} ^{2}} * ({Pe}_{r} -1  +  e^{-{Pe}_{r}})$\n",
    "\n",
    "$q = \\sqrt{1 + \\frac{4 * Da_{1}}{{Pe}_{r}}}$\n",
    "\n",
    "$j = \\frac{{Pe}_{r} * q}{2}$\n",
    "\n",
    "$X = 1 - \\frac{4 * q * exp({Pe}_{r})}{ {(1+q)}^{2} * exp(j) - {(1-q)}^{2} * exp(-j)}$\n",
    "\n",
    "## Ideal PFR Behaviour\n",
    "\n",
    "$X_{A} =(1 - e^{-Da_{1}})$\n",
    "\n",
    "$X_{A} =(1 - e^{-\\tau * k_{1}})$\n",
    "\n",
    "## Tanks in Series Model\n",
    "\n",
    "n = $(\\frac{\\tau ^{2}}{\\sigma ^{2}})$\n",
    "\n",
    "$X_{A} = \\frac{1}{({1 + Da_{1}})^{n}}$\n",
    "\n",
    "## Single CSTR\n",
    "\n",
    "Here, taking $n=1$ to use the Tanks in Series Model\n",
    "\n",
    "$X_{A} = \\frac{1}{(1 + Da_{1})}$\n",
    "\n"
   ]
  },
  {
   "cell_type": "code",
   "execution_count": 8,
   "metadata": {},
   "outputs": [],
   "source": [
    "for i in range(0,len(k_range)):\n",
    "    conv_mod.k= k_range[i]\n",
    "    x_cvdm[i]             = conv_mod.closed_vessel_dispersion()\n",
    "    x_ideal_pfr[i]        = conv_mod.ideal_pfr()\n",
    "    x_tanks_in_series[i]  = conv_mod.tanks_in_series()\n",
    "    x_single_cstr[i]      = conv_mod.single_cstr()"
   ]
  },
  {
   "cell_type": "markdown",
   "metadata": {},
   "source": [
    "#### Plotting the Data\n",
    "The figure is also saved as pdf file \"conversion plot.pdf\""
   ]
  },
  {
   "cell_type": "code",
   "execution_count": 9,
   "metadata": {},
   "outputs": [
    {
     "data": {
      "image/png": "[encoded data removed]",
      "text/plain": [
       "<Figure size 432x288 with 1 Axes>"
      ]
     },
     "metadata": {
      "needs_background": "light"
     },
     "output_type": "display_data"
    }
   ],
   "source": [
    "plt.figure()\n",
    "plt.plot(k_range,x_ideal_pfr,'b',label = \"Ideal PFR\",linewidth=0.8)\n",
    "plt.plot(k_range,x_cvdm,'r',label = \"Closed Vessel\\nDispersion Model\",linewidth=0.8)\n",
    "plt.plot(k_range,x_tanks_in_series,'g',label = \"Tanks in Series\",linewidth=0.8)\n",
    "plt.plot(k_range,x_single_cstr,'k',label = \"Single CSTR\",linewidth=0.8)\n",
    "title_aaa = \"Variation of Conversion with rate constant k\\n\"\n",
    "title_aab=  \"for this Reactor for the reaction \"\n",
    "title_aac = r\"$A \\rightarrow B$\"\n",
    "plt.title(title_aaa+title_aab+title_aac)\n",
    "plt.legend(loc=\"best\")\n",
    "plt.xlabel(\"k \" +r\"$[{(min)}^{-1}]$\")\n",
    "plt.ylabel(\"Conversion \"+ r\"($X_{A}$)\")\n",
    "plt.xlim([0, k_max])\n",
    "plt.ylim([0, 1])\n",
    "plt.savefig('conversion plot.pdf')"
   ]
  }
 ],
 "metadata": {
  "kernelspec": {
   "display_name": "Python 3",
   "language": "python",
   "name": "python3"
  },
  "language_info": {
   "codemirror_mode": {
    "name": "ipython",
    "version": 3
   },
   "file_extension": ".py",
   "mimetype": "text/x-python",
   "name": "python",
   "nbconvert_exporter": "python",
   "pygments_lexer": "ipython3",
   "version": "3.8.5"
  }
 },
 "nbformat": 4,
 "nbformat_minor": 4
}
