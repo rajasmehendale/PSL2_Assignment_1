{
 "cells": [
  {
   "cell_type": "markdown",
   "metadata": {},
   "source": [
    "# Determination of kinetics of a 2nd Order Reaction using a batch reactor"
   ]
  },
  {
   "cell_type": "markdown",
   "metadata": {},
   "source": [
    "## Details"
   ]
  },
  {
   "cell_type": "markdown",
   "metadata": {},
   "source": [
    "Rajas Mehendale\n",
    "\n",
    "18CHE160\n",
    "\n",
    "T.Y B.Chem.Engg\n",
    "\n",
    "ICT, Mumbai\n"
   ]
  },
  {
   "cell_type": "markdown",
   "metadata": {},
   "source": [
    "## Importing Libraries"
   ]
  },
  {
   "cell_type": "code",
   "execution_count": 1,
   "metadata": {},
   "outputs": [],
   "source": [
    "import numpy as np\n",
    "import pandas as pd\n",
    "from matplotlib.backends.backend_pdf import PdfPages\n",
    "\n",
    "import matplotlib\n",
    "import matplotlib.pyplot as plt\n",
    "from matplotlib import style\n",
    "from scipy.optimize import curve_fit\n",
    "from sklearn.metrics import r2_score \n",
    "\n",
    "from IPython.display import display\n",
    "\n",
    "%config InlineBackend.figure_format = 'retina'\n",
    "\n",
    "style.use(\"classic\")"
   ]
  },
  {
   "cell_type": "markdown",
   "metadata": {},
   "source": [
    "## Reaction Conditions"
   ]
  },
  {
   "cell_type": "markdown",
   "metadata": {},
   "source": [
    "\n",
    "\n",
    "$M = \\frac{{C}_{B0}}{{C}_{A0}}$\n",
    "\n",
    "M greater than 1 for the analysis to hold mathematically.\n"
   ]
  },
  {
   "cell_type": "code",
   "execution_count": 2,
   "metadata": {},
   "outputs": [],
   "source": [
    "temp = 30 #centigrade\n",
    "temp_kel = temp +273.16 #Kelvin\n",
    "cao = 9.100e-3 #gmol/L\n",
    "cbo = 1.090e-2 #gmol/L\n",
    "M = cbo/cao;\n",
    "lambda_calib = (2.6e-4,-6.3e-5);"
   ]
  },
  {
   "cell_type": "markdown",
   "metadata": {},
   "source": [
    "## Reading the Excel File using pandas"
   ]
  },
  {
   "cell_type": "code",
   "execution_count": 3,
   "metadata": {},
   "outputs": [
    {
     "data": {
      "text/html": [
       "<div>\n",
       "<style scoped>\n",
       "    .dataframe tbody tr th:only-of-type {\n",
       "        vertical-align: middle;\n",
       "    }\n",
       "\n",
       "    .dataframe tbody tr th {\n",
       "        vertical-align: top;\n",
       "    }\n",
       "\n",
       "    .dataframe thead th {\n",
       "        text-align: right;\n",
       "    }\n",
       "</style>\n",
       "<table border=\"1\" class=\"dataframe\">\n",
       "  <thead>\n",
       "    <tr style=\"text-align: right;\">\n",
       "      <th></th>\n",
       "      <th>Time_sec</th>\n",
       "      <th>YT_mS_per_cm</th>\n",
       "    </tr>\n",
       "    <tr>\n",
       "      <th>Sr_No</th>\n",
       "      <th></th>\n",
       "      <th></th>\n",
       "    </tr>\n",
       "  </thead>\n",
       "  <tbody>\n",
       "    <tr>\n",
       "      <th>1</th>\n",
       "      <td>15</td>\n",
       "      <td>19.70</td>\n",
       "    </tr>\n",
       "    <tr>\n",
       "      <th>2</th>\n",
       "      <td>30</td>\n",
       "      <td>14.05</td>\n",
       "    </tr>\n",
       "    <tr>\n",
       "      <th>3</th>\n",
       "      <td>60</td>\n",
       "      <td>10.06</td>\n",
       "    </tr>\n",
       "    <tr>\n",
       "      <th>4</th>\n",
       "      <td>90</td>\n",
       "      <td>8.58</td>\n",
       "    </tr>\n",
       "    <tr>\n",
       "      <th>5</th>\n",
       "      <td>120</td>\n",
       "      <td>7.87</td>\n",
       "    </tr>\n",
       "  </tbody>\n",
       "</table>\n",
       "</div>"
      ],
      "text/plain": [
       "       Time_sec  YT_mS_per_cm\n",
       "Sr_No                        \n",
       "1            15         19.70\n",
       "2            30         14.05\n",
       "3            60         10.06\n",
       "4            90          8.58\n",
       "5           120          7.87"
      ]
     },
     "metadata": {},
     "output_type": "display_data"
    }
   ],
   "source": [
    "df = pd.read_excel(\n",
    "                    \"batch_reactor_assignment_data.xlsx\",\n",
    "                    index_col=0\n",
    "                  )\n",
    "display(df.head(5))"
   ]
  },
  {
   "cell_type": "markdown",
   "metadata": {},
   "source": [
    "### Defining the necessary functions"
   ]
  },
  {
   "cell_type": "markdown",
   "metadata": {},
   "source": [
    "#### Calibration\n",
    "\n",
    "$${Y}_{{28}^{o}C} = 1+0.0145*(T({}^{o}C) - 28)$$\n",
    "\n"
   ]
  },
  {
   "cell_type": "code",
   "execution_count": 4,
   "metadata": {},
   "outputs": [],
   "source": [
    "def calibration(row):\n",
    "    yt = row[\"YT_mS_per_cm\"]\n",
    "    y28 = yt*(1 + 0.0145*(temp-28))\n",
    "    return y28"
   ]
  },
  {
   "cell_type": "markdown",
   "metadata": {},
   "source": [
    "#### Concentration of B\n",
    "\n",
    "$$C_{B} = \\ \\ (\\lambda _{1} *{Y}_{{28}^{o}C} ) + \\lambda _{2}$$ \n",
    "\n",
    "$$C_{B} \\ \\ in \\ \\ (\\frac{gmol}{L})$$"
   ]
  },
  {
   "cell_type": "code",
   "execution_count": 5,
   "metadata": {},
   "outputs": [],
   "source": [
    "def conc_b(row):\n",
    "    y28 = row[\"Y28\"]\n",
    "    cb = lambda_calib[0]*y28 + lambda_calib[1]\n",
    "    return cb"
   ]
  },
  {
   "cell_type": "markdown",
   "metadata": {},
   "source": [
    "#### Concentration of A\n",
    "\n",
    "$$C_A = C_{A0} - (C_{B0} \\ \\  - \\ \\ C_{B})$$"
   ]
  },
  {
   "cell_type": "code",
   "execution_count": 6,
   "metadata": {},
   "outputs": [],
   "source": [
    "def conc_a(row):\n",
    "    cb = row[\"Cb\"]\n",
    "    ca = cao-(cbo-cb)\n",
    "    return ca"
   ]
  },
  {
   "cell_type": "markdown",
   "metadata": {},
   "source": [
    "#### Conversion\n",
    "\n",
    "$${X}_{A} = (\\frac{C_{A0} - C_{A}}{C_{A0}})$$"
   ]
  },
  {
   "cell_type": "code",
   "execution_count": 7,
   "metadata": {},
   "outputs": [],
   "source": [
    "def conversion(row):\n",
    "    ca = row[\"Ca\"]\n",
    "    Xa = (cao-ca)/cao\n",
    "    return Xa"
   ]
  },
  {
   "cell_type": "markdown",
   "metadata": {},
   "source": [
    "#### Batch Reactor Design Equation"
   ]
  },
  {
   "cell_type": "markdown",
   "metadata": {},
   "source": [
    "\n",
    "\n",
    "$$t = \\ \\ \\int_{0}^{{X}_{A}} (\\frac{d{X}_{A}}{{-r}_{A}})$$\n",
    "\n",
    "\n",
    "$$t = \\ \\ \\int_{0}^{{X}_{A}} (\\frac{d{X}_{A}}{k * {C}_{A} * {C}_{B}})$$\n",
    "\n",
    "$$t = \\ \\ \\int_{0}^{{X}_{A}} (\\frac{d{X}_{A}}{k * {{C}_{A0}}^{2} * (1-{X}_{A}) * (M-{X}_{A})})$$\n",
    "\n",
    "where \n",
    "\n",
    "${C}_{A} ={C}_{A0} * (1- {X}_{A})$\n",
    "\n",
    "${C}_{B} ={C}_{B0} - \\ \\ {\\nu }_{B} * {C}_{A0} *{X}_{A}$\n",
    "\n",
    "Here, ${\\nu }_{B} =1$\n",
    "\n",
    "\n",
    "This equation has an analytical solution given by\n",
    "\n",
    "$$k \\ \\ * \\ \\ t \\ \\  = \\frac{1}{{C}_{A0} * (M-1)} * ln [\\frac{M - X_A}{M*(1-X_A)}]$$\n",
    "\n"
   ]
  },
  {
   "cell_type": "code",
   "execution_count": 8,
   "metadata": {},
   "outputs": [],
   "source": [
    "def plot_func(row):\n",
    "    Xa = row[\"Xa\"]\n",
    "    f_xa = (1/(cao*(M-1)))*np.log((M-Xa)/(M*(1-Xa)))\n",
    "    return f_xa"
   ]
  },
  {
   "cell_type": "markdown",
   "metadata": {},
   "source": [
    "### Performing calculations"
   ]
  },
  {
   "cell_type": "code",
   "execution_count": 9,
   "metadata": {
    "scrolled": true
   },
   "outputs": [],
   "source": [
    "df[\"Y28\"] = df.apply(\n",
    "                    calibration,\n",
    "                    axis = 1,\n",
    "                    )\n",
    "df[\"Cb\"] = df.apply(\n",
    "                    conc_b,\n",
    "                    axis = 1,\n",
    "                    )\n",
    "df[\"Ca\"] = df.apply(\n",
    "                    conc_a,\n",
    "                    axis = 1,\n",
    "                    #args= (cao,cbo)\n",
    "                    )\n",
    "df[\"Xa\"] = df.apply(\n",
    "                    conversion,\n",
    "                    axis = 1,\n",
    "                    #args= (cao,cbo)\n",
    "                    )\n",
    "df[\"f_Xa\"] = df.apply(\n",
    "                    plot_func,\n",
    "                    axis = 1,\n",
    "                    #args= (cao,cbo)\n",
    "                    )"
   ]
  },
  {
   "cell_type": "markdown",
   "metadata": {},
   "source": [
    "### Displaying the final table"
   ]
  },
  {
   "cell_type": "code",
   "execution_count": 10,
   "metadata": {},
   "outputs": [
    {
     "data": {
      "text/html": [
       "<div>\n",
       "<style scoped>\n",
       "    .dataframe tbody tr th:only-of-type {\n",
       "        vertical-align: middle;\n",
       "    }\n",
       "\n",
       "    .dataframe tbody tr th {\n",
       "        vertical-align: top;\n",
       "    }\n",
       "\n",
       "    .dataframe thead th {\n",
       "        text-align: right;\n",
       "    }\n",
       "</style>\n",
       "<table border=\"1\" class=\"dataframe\">\n",
       "  <thead>\n",
       "    <tr style=\"text-align: right;\">\n",
       "      <th></th>\n",
       "      <th>Time_sec</th>\n",
       "      <th>YT_mS_per_cm</th>\n",
       "      <th>Y28</th>\n",
       "      <th>Cb</th>\n",
       "      <th>Ca</th>\n",
       "      <th>Xa</th>\n",
       "      <th>f_Xa</th>\n",
       "    </tr>\n",
       "    <tr>\n",
       "      <th>Sr_No</th>\n",
       "      <th></th>\n",
       "      <th></th>\n",
       "      <th></th>\n",
       "      <th></th>\n",
       "      <th></th>\n",
       "      <th></th>\n",
       "      <th></th>\n",
       "    </tr>\n",
       "  </thead>\n",
       "  <tbody>\n",
       "    <tr>\n",
       "      <th>1</th>\n",
       "      <td>15</td>\n",
       "      <td>19.70</td>\n",
       "      <td>20.27130</td>\n",
       "      <td>0.005208</td>\n",
       "      <td>0.003408</td>\n",
       "      <td>0.625545</td>\n",
       "      <td>135.349322</td>\n",
       "    </tr>\n",
       "    <tr>\n",
       "      <th>2</th>\n",
       "      <td>30</td>\n",
       "      <td>14.05</td>\n",
       "      <td>14.45745</td>\n",
       "      <td>0.003696</td>\n",
       "      <td>0.001896</td>\n",
       "      <td>0.791655</td>\n",
       "      <td>270.573643</td>\n",
       "    </tr>\n",
       "    <tr>\n",
       "      <th>3</th>\n",
       "      <td>60</td>\n",
       "      <td>10.06</td>\n",
       "      <td>10.35174</td>\n",
       "      <td>0.002628</td>\n",
       "      <td>0.000828</td>\n",
       "      <td>0.908961</td>\n",
       "      <td>541.168196</td>\n",
       "    </tr>\n",
       "    <tr>\n",
       "      <th>4</th>\n",
       "      <td>90</td>\n",
       "      <td>8.58</td>\n",
       "      <td>8.82882</td>\n",
       "      <td>0.002232</td>\n",
       "      <td>0.000432</td>\n",
       "      <td>0.952473</td>\n",
       "      <td>811.566271</td>\n",
       "    </tr>\n",
       "    <tr>\n",
       "      <th>5</th>\n",
       "      <td>120</td>\n",
       "      <td>7.87</td>\n",
       "      <td>8.09823</td>\n",
       "      <td>0.002043</td>\n",
       "      <td>0.000243</td>\n",
       "      <td>0.973347</td>\n",
       "      <td>1083.497287</td>\n",
       "    </tr>\n",
       "  </tbody>\n",
       "</table>\n",
       "</div>"
      ],
      "text/plain": [
       "       Time_sec  YT_mS_per_cm       Y28        Cb        Ca        Xa  \\\n",
       "Sr_No                                                                   \n",
       "1            15         19.70  20.27130  0.005208  0.003408  0.625545   \n",
       "2            30         14.05  14.45745  0.003696  0.001896  0.791655   \n",
       "3            60         10.06  10.35174  0.002628  0.000828  0.908961   \n",
       "4            90          8.58   8.82882  0.002232  0.000432  0.952473   \n",
       "5           120          7.87   8.09823  0.002043  0.000243  0.973347   \n",
       "\n",
       "              f_Xa  \n",
       "Sr_No               \n",
       "1       135.349322  \n",
       "2       270.573643  \n",
       "3       541.168196  \n",
       "4       811.566271  \n",
       "5      1083.497287  "
      ]
     },
     "metadata": {},
     "output_type": "display_data"
    }
   ],
   "source": [
    "display(df.head(5))"
   ]
  },
  {
   "cell_type": "markdown",
   "metadata": {},
   "source": [
    "## Determination of k\n",
    "\n",
    "\n",
    "The value of k can be determined by linear regression of the form\n",
    "\n",
    "$$f({X}_{A}) = k \\ \\ *\\ \\ t $$\n",
    "\n",
    "$$where$$\n",
    "\n",
    "$$f({X}_{A}) = \\frac{1}{{C}_{A0} * (M-1)} * ln [\\frac{M - X_A}{M*(1-X_A)}]$$"
   ]
  },
  {
   "cell_type": "markdown",
   "metadata": {},
   "source": [
    "### Using curve_fit to obtain k"
   ]
  },
  {
   "cell_type": "code",
   "execution_count": 11,
   "metadata": {},
   "outputs": [
    {
     "name": "stdout",
     "output_type": "stream",
     "text": [
      "The value of k is 9.1401 (gmol/L)^(-1) * (s)^(-1)\n",
      "Goodness of fit indicator (R^2) = 0.9972\n",
      "\n"
     ]
    }
   ],
   "source": [
    "def test(x,k_dash): \n",
    "    return k_dash*x ## f(xa) = k*t\n",
    "param, param_cov = curve_fit(test, df[\"Time_sec\"], df[\"f_Xa\"]) \n",
    "k = param[0]\n",
    "print(\"The value of k is %.4f\" %(k) + \" (gmol/L)^(-1) * (s)^(-1)\")\n",
    "r_sq = r2_score(df['f_Xa'], test(df['Time_sec'],k))\n",
    "print(\"Goodness of fit indicator (R^2) = %0.4f\\n\" %r_sq)"
   ]
  },
  {
   "cell_type": "markdown",
   "metadata": {},
   "source": [
    "## Plotting the Data"
   ]
  },
  {
   "cell_type": "markdown",
   "metadata": {},
   "source": [
    "### Creating a Regression Line for Plotting"
   ]
  },
  {
   "cell_type": "code",
   "execution_count": 12,
   "metadata": {},
   "outputs": [],
   "source": [
    "z = np.linspace(0,400,2000);\n",
    "yy = param[0]*z"
   ]
  },
  {
   "cell_type": "markdown",
   "metadata": {},
   "source": [
    "### Creating a Plot"
   ]
  },
  {
   "cell_type": "code",
   "execution_count": 13,
   "metadata": {},
   "outputs": [
    {
     "data": {
      "image/png": "[encoded data removed]",
      "text/plain": [
       "<Figure size 640x480 with 1 Axes>"
      ]
     },
     "metadata": {
      "image/png": {
       "height": 454,
       "width": 584
      }
     },
     "output_type": "display_data"
    }
   ],
   "source": [
    "fig = plt.figure(facecolor=\"beige\")\n",
    "ax = fig.add_subplot(111)\n",
    "ax.scatter(df[\"Time_sec\"], df[\"f_Xa\"],label =\"Data\", marker = \"o\",s=45, edgecolors='b',facecolors = 'none') \n",
    "# facecolors = 'none'\n",
    "ax.plot(z,yy, 'k', label = \"Linear \\n Regression\\n\"+r\"${R}^{2} =$ %.4f\"%(r_sq) )\n",
    "\n",
    "\n",
    "plt.xlim([0,400]);\n",
    "plt.ylim([0,4000]);\n",
    "plt.xlabel(\"Time (t) (seconds)\", fontsize=12)\n",
    "plt.ylabel(r\"$f({X}_{A})$\", fontsize=12)\n",
    "plt.legend(loc=\"best\")\n",
    "plt.title(r\"$f(X_A)$\"\n",
    "          + \" vs Time\", \n",
    "          fontsize=14);\n",
    "\n",
    "\n",
    "textstr =\"k= %.4f \" %(k) + r\"${(gmol/L)}^{-1}* {(s)}^{-1}$\"\n",
    "props = dict(boxstyle='round', facecolor='gold', alpha=0.5)\n",
    "ax.text(0.5, 0.1, textstr, transform=ax.transAxes, fontsize=14,\n",
    "        verticalalignment='top', bbox=props);\n",
    "\n",
    "\n",
    "#plt.savefig(\"Regression Plot.pdf\",bbox_inches='tight')\n"
   ]
  },
  {
   "cell_type": "markdown",
   "metadata": {},
   "source": [
    "### Saving the Calculations to an Excel File"
   ]
  },
  {
   "cell_type": "code",
   "execution_count": 14,
   "metadata": {},
   "outputs": [],
   "source": [
    "df.to_excel(\"calculations_batch_reactor_assignment.xlsx\", sheet_name = 'Calculations')"
   ]
  }
 ],
 "metadata": {
  "kernelspec": {
   "display_name": "Python 3",
   "language": "python",
   "name": "python3"
  },
  "language_info": {
   "codemirror_mode": {
    "name": "ipython",
    "version": 3
   },
   "file_extension": ".py",
   "mimetype": "text/x-python",
   "name": "python",
   "nbconvert_exporter": "python",
   "pygments_lexer": "ipython3",
   "version": "3.8.5"
  }
 },
 "nbformat": 4,
 "nbformat_minor": 4
}
